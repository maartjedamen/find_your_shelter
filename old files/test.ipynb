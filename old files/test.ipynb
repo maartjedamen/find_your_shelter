{
 "cells": [
  {
   "cell_type": "code",
   "execution_count": 3,
   "metadata": {},
   "outputs": [],
   "source": [
    "import shapely as shp\n",
    "import requests\n",
    "import pandas as pd\n",
    "import geopandas as gpd\n",
    "import numpy as np\n",
    "import numpy as np"
   ]
  },
  {
   "cell_type": "code",
   "execution_count": 4,
   "metadata": {},
   "outputs": [
    {
     "name": "stdout",
     "output_type": "stream",
     "text": [
      "\n"
     ]
    }
   ],
   "source": [
    "sportsfield_centers_gdf = gpd.read_file(\"data/sportsfield_centers_gdf\", bbox=None, mask=None, rows=None, engine=None)\n",
    "print()\n",
    "coords = sportsfield_centers_gdf['geometry']\n",
    "coords = shp.get_coordinates(coords)\n",
    "coords = coords.tolist()\n",
    "coord= coords[0]"
   ]
  },
  {
   "cell_type": "code",
   "execution_count": 23,
   "metadata": {},
   "outputs": [
    {
     "name": "stdout",
     "output_type": "stream",
     "text": [
      " 21    130\n",
      " 20    127\n",
      " 22    122\n",
      " 6     114\n",
      " 8     108\n",
      " 18    103\n",
      " 7      95\n",
      " 9      92\n",
      " 5      90\n",
      " 19     85\n",
      " 17     82\n",
      " 4      78\n",
      " 14     66\n",
      " 10     63\n",
      " 11     62\n",
      " 13     62\n",
      " 16     59\n",
      " 3      59\n",
      " 15     52\n",
      " 12     51\n",
      " 1      31\n",
      " 2      31\n",
      " 23     26\n",
      " 0      24\n",
      "-1       9\n",
      " 24      3\n",
      "-3       2\n",
      "-2       1\n",
      "dtype: int64\n"
     ]
    }
   ],
   "source": [
    "# These are the variables that are included in the URL that we use.\n",
    "# Other options are also possible, see open-meteo.com for more data.\n",
    "variables = [\"temperature_2m_max\", \"temperature_2m_min\", \"rain_sum\", \"snowfall_sum\", \"windspeed_10m_max\", \"winddirection_10m_dominant\"]\n",
    "\n",
    "# Create empty lists to store the means for each variable\n",
    "\n",
    "urllat = coord[0]\n",
    "urllon = coord[1]\n",
    "\n",
    "# Set URL for different datatypes at each location\n",
    "# open_meteo_url = f\"http://archive-api.open-meteo.com/v1/archive?latitude={urllat}&longitude={urllon}&start_date=2022-01-01&end_date=2023-01-01&daily={','.join(variables)}&timezone=Africa/Cairo\"\n",
    "open_meteo_url = f\"http://archive-api.open-meteo.com/v1/archive?latitude={urllat}&longitude={urllon}&start_date=2018-01-01&end_date=2023-01-01&daily={','.join(variables)}&timezone=Africa%2FCairo\" \n",
    "# Request data from the URL\n",
    "response = requests.get(open_meteo_url)\n",
    "data = response.json()\n",
    "\n",
    "    \n",
    "weather_values = {var: [] for var in variables}\n",
    "# weather_values['lat'] = []  # List to store latitude values\n",
    "# weather_values['lon'] = []  # List to store longitude values\n",
    "weather_values['max_temp'] = []\n",
    "weather_values['min_temp'] = []\n",
    "\n",
    "# weather_values['lat'].append(coord[0])\n",
    "# weather_values['lon'].append(coord[1])\n",
    "\n",
    "for var in variables:\n",
    "    daily_data = data['daily']\n",
    "    if var in daily_data:\n",
    "        daily_var = daily_data[var]\n",
    "        mean_value = np.mean(daily_var)\n",
    "        weather_values[var].append(mean_value)\n"
   ]
  },
  {
   "cell_type": "code",
   "execution_count": 27,
   "metadata": {},
   "outputs": [
    {
     "name": "stdout",
     "output_type": "stream",
     "text": [
      "0\n"
     ]
    }
   ],
   "source": [
    "def find_temperature_statistics(data, upper_bound = True):\n",
    "    \n",
    "    # If the temperature occurs more than 3 times per year on average, it is considered not tolerable as an extreme temperature (this is an estimate).  \n",
    "    day_counts = len(data)\n",
    "    min_occurrences = day_counts*3/365\n",
    "\n",
    "    # Count the occurrences of each temperature\n",
    "    temperatures_int = [int(x) for x in data]\n",
    "    temperature_counts_around_range = pd.Series(temperatures_int).value_counts()\n",
    "    # print(temperature_counts_around_range)\n",
    "\n",
    "\n",
    "    # Filter temperatures that occur more than a certain number of days around the specified range\n",
    "    filtered_temperatures_around_range = temperature_counts_around_range[temperature_counts_around_range > min_occurrences]\n",
    "\n",
    "    if upper_bound == True: \n",
    "        return filtered_temperatures_around_range.index.max()\n",
    "    else: \n",
    "        return filtered_temperatures_around_range.index.min()\n",
    "            \n",
    "# max_temp_data = data['daily'][\"temperature_2m_max\"]    \n",
    "# weather_values['max_temp'].append(find_temperature_statistics(max_temp_data, True))\n",
    "\n",
    "min_temp_data = data['daily'][\"temperature_2m_min\"]\n",
    "print(find_temperature_statistics(min_temp_data, False))\n",
    "# print(weather_values)\n",
    "# Create a DataFrame to store the data\n",
    "# df = pd.DataFrame(weather_values)\n",
    "\n"
   ]
  },
  {
   "cell_type": "code",
   "execution_count": 10,
   "metadata": {},
   "outputs": [
    {
     "name": "stdout",
     "output_type": "stream",
     "text": [
      "22.437547892720307\n",
      "13.008648056923919\n",
      "1.7284619594964423\n",
      "0.0007662835249042146\n",
      "13.428680897646416\n",
      "195.8927203065134\n"
     ]
    },
    {
     "ename": "TypeError",
     "evalue": "list indices must be integers or slices, not str",
     "output_type": "error",
     "traceback": [
      "\u001b[1;31m---------------------------------------------------------------------------\u001b[0m",
      "\u001b[1;31mTypeError\u001b[0m                                 Traceback (most recent call last)",
      "\u001b[1;32m~\\AppData\\Local\\Temp\\ipykernel_11348\\919184432.py\u001b[0m in \u001b[0;36m<module>\u001b[1;34m\u001b[0m\n\u001b[0;32m     57\u001b[0m \u001b[0mtemp_data\u001b[0m \u001b[1;33m=\u001b[0m \u001b[0mdata\u001b[0m\u001b[1;33m[\u001b[0m\u001b[1;34m'daily'\u001b[0m\u001b[1;33m]\u001b[0m\u001b[1;33m[\u001b[0m\u001b[1;34m\"temperature_2m_max\"\u001b[0m\u001b[1;33m]\u001b[0m\u001b[1;33m\u001b[0m\u001b[1;33m\u001b[0m\u001b[0m\n\u001b[0;32m     58\u001b[0m \u001b[1;33m\u001b[0m\u001b[0m\n\u001b[1;32m---> 59\u001b[1;33m \u001b[0mmax_temp_more_than_60_around_40\u001b[0m \u001b[1;33m=\u001b[0m \u001b[0mfind_temperature_statistics\u001b[0m\u001b[1;33m(\u001b[0m\u001b[0mtemp_data\u001b[0m\u001b[1;33m,\u001b[0m \u001b[1;36m40\u001b[0m\u001b[1;33m,\u001b[0m \u001b[1;36m60\u001b[0m\u001b[1;33m)\u001b[0m\u001b[1;33m\u001b[0m\u001b[1;33m\u001b[0m\u001b[0m\n\u001b[0m\u001b[0;32m     60\u001b[0m \u001b[1;33m\u001b[0m\u001b[0m\n\u001b[0;32m     61\u001b[0m \u001b[1;31m# Use the function for 0°C range (e.g., +/- 5°C)\u001b[0m\u001b[1;33m\u001b[0m\u001b[1;33m\u001b[0m\u001b[0m\n",
      "\u001b[1;32m~\\AppData\\Local\\Temp\\ipykernel_11348\\919184432.py\u001b[0m in \u001b[0;36mfind_temperature_statistics\u001b[1;34m(data, target_temperature, min_occurrences)\u001b[0m\n\u001b[0;32m     41\u001b[0m \u001b[1;33m\u001b[0m\u001b[0m\n\u001b[0;32m     42\u001b[0m     \u001b[1;31m# Filter temperatures around the specified range\u001b[0m\u001b[1;33m\u001b[0m\u001b[1;33m\u001b[0m\u001b[0m\n\u001b[1;32m---> 43\u001b[1;33m     \u001b[0mtemperatures_around_range\u001b[0m \u001b[1;33m=\u001b[0m \u001b[0mdata\u001b[0m\u001b[1;33m[\u001b[0m\u001b[1;34m'Temperature_2m(°C)'\u001b[0m\u001b[1;33m]\u001b[0m\u001b[1;33m.\u001b[0m\u001b[0mapply\u001b[0m\u001b[1;33m(\u001b[0m\u001b[1;32mlambda\u001b[0m \u001b[0mx\u001b[0m\u001b[1;33m:\u001b[0m \u001b[0mmin\u001b[0m\u001b[1;33m(\u001b[0m\u001b[0mrange_values\u001b[0m\u001b[1;33m,\u001b[0m \u001b[0mkey\u001b[0m\u001b[1;33m=\u001b[0m\u001b[1;32mlambda\u001b[0m \u001b[0my\u001b[0m\u001b[1;33m:\u001b[0m \u001b[0mabs\u001b[0m\u001b[1;33m(\u001b[0m\u001b[0mx\u001b[0m \u001b[1;33m-\u001b[0m \u001b[0my\u001b[0m\u001b[1;33m)\u001b[0m\u001b[1;33m)\u001b[0m\u001b[1;33m)\u001b[0m\u001b[1;33m\u001b[0m\u001b[1;33m\u001b[0m\u001b[0m\n\u001b[0m\u001b[0;32m     44\u001b[0m \u001b[1;33m\u001b[0m\u001b[0m\n\u001b[0;32m     45\u001b[0m     \u001b[1;31m# Count the occurrences of each temperature around the specified range\u001b[0m\u001b[1;33m\u001b[0m\u001b[1;33m\u001b[0m\u001b[0m\n",
      "\u001b[1;31mTypeError\u001b[0m: list indices must be integers or slices, not str"
     ]
    }
   ],
   "source": [
    "# #  These are the variables that are included in the URL that we use.\n",
    "# # Other options are also possible, see open-meteo.com for more data.\n",
    "# variables = [\"temperature_2m_max\", \"temperature_2m_min\", \"rain_sum\", \"snowfall_sum\", \"windspeed_10m_max\", \"winddirection_10m_dominant\"]\n",
    "\n",
    "# # Create empty lists to store the means for each variable\n",
    "# weather_values = {var: [] for var in variables}\n",
    "# weather_values['lat'] = []  # List to store latitude values\n",
    "# weather_values['lon'] = []  # List to store longitude values\n",
    "# weather_values['max_temp'] = []\n",
    "# weather_values['min_temp'] = []\n",
    "# variables = [\"temperature_2m_max\", \"temperature_2m_min\", \"rain_sum\", \"snowfall_sum\", \"windspeed_10m_max\", \"winddirection_10m_dominant\"]\n",
    "\n",
    "# coord=coords[0]\n",
    "\n",
    "# urllat = coord[0]\n",
    "# urllon = coord[1]\n",
    "\n",
    "# weather_values['lat'].append(urllat)\n",
    "# weather_values['lon'].append(urllon)\n",
    "\n",
    "# # Set URL for different datatypes at each location\n",
    "# # open_meteo_url = f\"http://archive-api.open-meteo.com/v1/archive?latitude={urllat}&longitude={urllon}&start_date=2022-01-01&end_date=2023-01-01&daily={','.join(variables)}&timezone=Africa/Cairo\"\n",
    "# open_meteo_url = f\"http://archive-api.open-meteo.com/v1/archive?latitude={urllat}&longitude={urllon}&start_date=2018-01-01&end_date=2023-01-01&daily={','.join(variables)}&timezone=Africa%2FCairo\" \n",
    "# # Request data from the URL\n",
    "# response = requests.get(open_meteo_url)\n",
    "# data = response.json()\n",
    "\n",
    "# for var in variables:\n",
    "#     daily_data = data['daily']\n",
    "#     if var in daily_data:\n",
    "#         daily_var = daily_data[var]\n",
    "#         mean_value = np.mean(daily_var)\n",
    "#         print(mean_value)\n",
    "#         weather_values[var].append(mean_value)\n",
    "\n",
    "\n",
    "\n",
    "# def find_temperature_statistics(data, target_temperature, min_occurrences):\n",
    "#     # Define the range around the target temperature (e.g., +/- 5°C)\n",
    "#     range_values = list(range(target_temperature - 5, target_temperature + 6))\n",
    "\n",
    "#     # Filter temperatures around the specified range\n",
    "#     temperatures_around_range = data['Temperature_2m(°C)'].apply(lambda x: min(range_values, key=lambda y: abs(x - y)))\n",
    "\n",
    "#     # Count the occurrences of each temperature around the specified range\n",
    "#     temperature_counts_around_range = temperatures_around_range.value_counts()\n",
    "\n",
    "#     # Filter temperatures that occur more than a certain number of days around the specified range\n",
    "#     filtered_temperatures_around_range = temperature_counts_around_range[temperature_counts_around_range > min_occurrences]\n",
    "\n",
    "#     # Find the minimum or maximum temperature around the specified range that occurred more than a certain number of times\n",
    "#     if filtered_temperatures_around_range.empty:\n",
    "#         return None\n",
    "#     return filtered_temperatures_around_range.index.max()\n",
    "\n",
    "# # Use the function for 40°C range (e.g., +/- 5°C)\n",
    "# temp_data = data['daily'][\"temperature_2m_max\"]\n",
    "\n",
    "# max_temp_more_than_60_around_40 = find_temperature_statistics(temp_data, 40, 60)\n",
    "\n",
    "# # Use the function for 0°C range (e.g., +/- 5°C)\n",
    "# # min_temp_more_than_60_around_0 = find_temperature_statistics(Temp_2m, 0, 60)\n",
    "\n",
    "# var = \"temperature_2m_max\"\n",
    "# max_temperature = max(data['daily'][var])\n",
    "# weather_values['max_temp'].append(max_temperature)\n",
    "\n",
    "# var = \"temperature_2m_min\"\n",
    "# min_temperature = min(data['daily'][var])\n",
    "# weather_values['min_temp'].append(min_temperature)\n",
    "\n",
    "# # Create a DataFrame to store the data\n",
    "# df = pd.DataFrame(weather_values)\n",
    "\n",
    "# # Create a GeoDataFrame from the DataFrame\n",
    "# geometry = gpd.points_from_xy(df.lon, df.lat)\n",
    "# gdf = gpd.GeoDataFrame(df, geometry=geometry, crs='EPSG:4326')"
   ]
  },
  {
   "cell_type": "code",
   "execution_count": null,
   "metadata": {},
   "outputs": [],
   "source": [
    "\"\"\"snippet for visualizing a test POLYGON\"\"\"\n",
    "\n",
    "# df = pd.DataFrame(\n",
    "#     {   \"Latitude\": [36.200724, 36.198916, 36.198567, 36.199512, 36.200563],\n",
    "#         \"Longitude\": [36.131536, 36.129690, 36.132002, 36.133424, 36.132218],\n",
    "\n",
    "#     }\n",
    "# )\n",
    "\n",
    "# potential_shelterspot = gpd.GeoDataFrame(df, geometry=gpd.points_from_xy(df.Longitude, df.Latitude), crs=\"EPSG:4326\")\n",
    "# shape = potential_shelterspot.dissolve().convex_hull\n",
    "# shapegdf = gpd.GeoDataFrame(geometry=shape)\n",
    "# print(shapegdf)\n",
    "# print(potential_shelterspot)\n",
    "# center = shape.centroid\n",
    "# centergdf = gpd.GeoDataFrame(geometry=center)\n",
    "# print(centergdf)\n",
    "# print(type(centergdf))\n",
    "# coords = centergdf.get_coordinates()\n",
    "# potential_shelterspot = potential_shelterspot.apppend(centergdf)"
   ]
  }
 ],
 "metadata": {
  "kernelspec": {
   "display_name": "base",
   "language": "python",
   "name": "python3"
  },
  "language_info": {
   "codemirror_mode": {
    "name": "ipython",
    "version": 3
   },
   "file_extension": ".py",
   "mimetype": "text/x-python",
   "name": "python",
   "nbconvert_exporter": "python",
   "pygments_lexer": "ipython3",
   "version": "3.9.13"
  },
  "orig_nbformat": 4
 },
 "nbformat": 4,
 "nbformat_minor": 2
}
