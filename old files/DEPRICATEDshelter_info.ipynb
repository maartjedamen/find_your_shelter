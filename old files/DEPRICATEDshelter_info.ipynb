{
 "cells": [
  {
   "cell_type": "code",
   "execution_count": 1,
   "metadata": {},
   "outputs": [],
   "source": [
    "import geopandas as gpd\n",
    "import shapely as shp\n",
    "import requests\n",
    "import json\n",
    "import pandas as pd\n",
    "import numpy as np"
   ]
  },
  {
   "cell_type": "markdown",
   "metadata": {},
   "source": [
    "#### This script consists out of \n",
    "- The generation of population data per location; \n",
    "- The generation of meteorological data per location; \n",
    "- The generation of elevation data per location"
   ]
  },
  {
   "cell_type": "code",
   "execution_count": 2,
   "metadata": {},
   "outputs": [],
   "source": [
    "#choose here the shelter location that you want to retrieve data of\n",
    "shelter_num = 2"
   ]
  },
  {
   "cell_type": "code",
   "execution_count": 3,
   "metadata": {},
   "outputs": [
    {
     "name": "stdout",
     "output_type": "stream",
     "text": [
      "36.151255494244936\n"
     ]
    }
   ],
   "source": [
    "# load input coordinates from a geodataframe (file) folder\n",
    "folder_path = \"data/voronoi_gdf\"\n",
    "voronoi_gdf = gpd.read_file(folder_path)\n",
    "sportsfield_centers_gdf = gpd.read_file(\"data/sportsfield_centers_gdf\", bbox=None, mask=None, rows=None, engine=None)\n",
    "\n",
    "coords = sportsfield_centers_gdf['geometry']\n",
    "coords = shp.get_coordinates(coords)\n",
    "coords = coords.tolist()\n",
    "\n",
    "coord = coords[shelter_num]\n",
    "df = pd.DataFrame({'lon': [coord[0]], 'lat': [coord[1]], 'geometry': [coord]})\n",
    "main_gdf = gpd.GeoDataFrame(df, geometry=gpd.points_from_xy(df.lon, df.lat))"
   ]
  },
  {
   "cell_type": "markdown",
   "metadata": {},
   "source": [
    "#### The generation of population data per location"
   ]
  },
  {
   "cell_type": "code",
   "execution_count": 4,
   "metadata": {},
   "outputs": [],
   "source": [
    "from shelter import PopulationMapGenerator as pmg"
   ]
  },
  {
   "cell_type": "code",
   "execution_count": 5,
   "metadata": {},
   "outputs": [],
   "source": [
    "# amount of persons for which each shelter is the closest (based on voronoi)\n",
    "pop_file = 'data/population_tur_2020.csv'\n",
    "\n",
    "map_generator = pmg(pop_file)\n",
    "data = map_generator.filter_data()\n",
    "\n",
    "population_gdf = map_generator.get_population_geo_df()\n",
    "merged_data = gpd.sjoin(voronoi_gdf, population_gdf, how='inner', predicate='intersects')\n",
    "population_sum = merged_data.groupby('geometry')['population_2020'].sum().reset_index()\n",
    "\n",
    "\n",
    "population_sum_gdf = gpd.GeoDataFrame(population_sum, geometry='geometry', crs='EPSG:4326')"
   ]
  },
  {
   "cell_type": "code",
   "execution_count": 6,
   "metadata": {},
   "outputs": [
    {
     "data": {
      "text/html": [
       "<div>\n",
       "<style scoped>\n",
       "    .dataframe tbody tr th:only-of-type {\n",
       "        vertical-align: middle;\n",
       "    }\n",
       "\n",
       "    .dataframe tbody tr th {\n",
       "        vertical-align: top;\n",
       "    }\n",
       "\n",
       "    .dataframe thead th {\n",
       "        text-align: right;\n",
       "    }\n",
       "</style>\n",
       "<table border=\"1\" class=\"dataframe\">\n",
       "  <thead>\n",
       "    <tr style=\"text-align: right;\">\n",
       "      <th></th>\n",
       "      <th>lon</th>\n",
       "      <th>lat</th>\n",
       "      <th>geometry</th>\n",
       "      <th>population_2020</th>\n",
       "    </tr>\n",
       "  </thead>\n",
       "  <tbody>\n",
       "    <tr>\n",
       "      <th>0</th>\n",
       "      <td>36.151255</td>\n",
       "      <td>36.188028</td>\n",
       "      <td>POINT (36.15126 36.18803)</td>\n",
       "      <td>8999.194011</td>\n",
       "    </tr>\n",
       "  </tbody>\n",
       "</table>\n",
       "</div>"
      ],
      "text/plain": [
       "         lon        lat                   geometry  population_2020\n",
       "0  36.151255  36.188028  POINT (36.15126 36.18803)      8999.194011"
      ]
     },
     "execution_count": 6,
     "metadata": {},
     "output_type": "execute_result"
    }
   ],
   "source": [
    "main_gdf = main_gdf.assign(population_2020=population_sum_gdf[\"population_2020\"][shelter_num])"
   ]
  },
  {
   "cell_type": "markdown",
   "metadata": {},
   "source": [
    "#### The generation of meteorological data per location"
   ]
  },
  {
   "cell_type": "code",
   "execution_count": 7,
   "metadata": {},
   "outputs": [],
   "source": [
    "from shelter import WeatherData as wd"
   ]
  },
  {
   "cell_type": "code",
   "execution_count": 8,
   "metadata": {},
   "outputs": [
    {
     "name": "stdout",
     "output_type": "stream",
     "text": [
      "{'temperature_2m_max': [21.62949297786241], 'temperature_2m_min': [13.052047131635325], 'rain_sum': [1.4431682932635086], 'snowfall_sum': [0.019753630088074264], 'windspeed_10m_max': [11.36568674125208], 'winddirection_10m_dominant': [209.98190906926922], 'max_temp': [34], 'min_temp': [23]}\n"
     ]
    }
   ],
   "source": [
    "#retrieve weather data and append it location-specific\n",
    "weather_data, weather_var = wd.get_weather_API(coord)\n",
    "df_coord = wd.get_weather_data(coord, weather_data, weather_var)"
   ]
  },
  {
   "cell_type": "code",
   "execution_count": 9,
   "metadata": {},
   "outputs": [
    {
     "data": {
      "text/html": [
       "<div>\n",
       "<style scoped>\n",
       "    .dataframe tbody tr th:only-of-type {\n",
       "        vertical-align: middle;\n",
       "    }\n",
       "\n",
       "    .dataframe tbody tr th {\n",
       "        vertical-align: top;\n",
       "    }\n",
       "\n",
       "    .dataframe thead th {\n",
       "        text-align: right;\n",
       "    }\n",
       "</style>\n",
       "<table border=\"1\" class=\"dataframe\">\n",
       "  <thead>\n",
       "    <tr style=\"text-align: right;\">\n",
       "      <th></th>\n",
       "      <th>lon</th>\n",
       "      <th>lat</th>\n",
       "      <th>geometry</th>\n",
       "      <th>population_2020</th>\n",
       "      <th>temperature_2m_max</th>\n",
       "      <th>temperature_2m_min</th>\n",
       "      <th>rain_sum</th>\n",
       "      <th>snowfall_sum</th>\n",
       "      <th>windspeed_10m_max</th>\n",
       "      <th>winddirection_10m_dominant</th>\n",
       "      <th>max_temp</th>\n",
       "      <th>min_temp</th>\n",
       "    </tr>\n",
       "  </thead>\n",
       "  <tbody>\n",
       "    <tr>\n",
       "      <th>0</th>\n",
       "      <td>36.151255</td>\n",
       "      <td>36.188028</td>\n",
       "      <td>POINT (36.15126 36.18803)</td>\n",
       "      <td>8999.194011</td>\n",
       "      <td>21.629493</td>\n",
       "      <td>13.052047</td>\n",
       "      <td>1.443168</td>\n",
       "      <td>0.019754</td>\n",
       "      <td>11.365687</td>\n",
       "      <td>209.981909</td>\n",
       "      <td>34</td>\n",
       "      <td>23</td>\n",
       "    </tr>\n",
       "  </tbody>\n",
       "</table>\n",
       "</div>"
      ],
      "text/plain": [
       "         lon        lat                   geometry  population_2020  \\\n",
       "0  36.151255  36.188028  POINT (36.15126 36.18803)      8999.194011   \n",
       "\n",
       "   temperature_2m_max  temperature_2m_min  rain_sum  snowfall_sum  \\\n",
       "0           21.629493           13.052047  1.443168      0.019754   \n",
       "\n",
       "   windspeed_10m_max  winddirection_10m_dominant  max_temp  min_temp  \n",
       "0          11.365687                  209.981909        34        23  "
      ]
     },
     "execution_count": 9,
     "metadata": {},
     "output_type": "execute_result"
    }
   ],
   "source": [
    "main_gdf = main_gdf.join(df_coord, lsuffix='', rsuffix='r')"
   ]
  },
  {
   "cell_type": "markdown",
   "metadata": {},
   "source": [
    "#### The generation of elevation data per location"
   ]
  },
  {
   "cell_type": "code",
   "execution_count": 10,
   "metadata": {},
   "outputs": [],
   "source": [
    "from shelter import SlopeFunctions as sf"
   ]
  },
  {
   "cell_type": "code",
   "execution_count": 11,
   "metadata": {},
   "outputs": [
    {
     "name": "stdout",
     "output_type": "stream",
     "text": [
      "[[(36.12371739999999, 36.1933556), (36.124349699999996, 36.19387660000001), (36.125311, 36.1931168), (36.1246788, 36.1925958), (36.12371739999999, 36.1933556)], [(36.14869830000001, 36.187375800000005), (36.1489225, 36.1875755), (36.149305399999996, 36.1873004), (36.1490859, 36.187123199999995), (36.14869830000001, 36.187375800000005)], [(36.1509264, 36.187932), (36.15134139999999, 36.18830189999999), (36.1515846, 36.18812419999999), (36.151169599999996, 36.1877542), (36.1509264, 36.187932)], [(36.1476851, 36.184514500000006), (36.148258500000004, 36.18493899999999), (36.14853649999999, 36.18469439999999), (36.1479631, 36.1842699), (36.1476851, 36.184514500000006)], [(36.153183299999995, 36.2026731), (36.1535037, 36.20265069999999), (36.15346360000001, 36.202218099999996), (36.1531525, 36.202242899999995), (36.153183299999995, 36.2026731)], [(36.13531509999999, 36.17255), (36.135771399999996, 36.17268979999999), (36.13585719999999, 36.17250719999999), (36.13540090000001, 36.1723674), (36.13531509999999, 36.17255)]]\n"
     ]
    }
   ],
   "source": [
    "folder_path = \"data/filtered_sportsfield_gdf\"\n",
    "sportsfield_gdf = gpd.read_file(folder_path)\n",
    "\n",
    "polygon_coords = []\n",
    "for polygon in sportsfield_gdf['geometry']: \n",
    "    coords = (list(polygon.exterior.coords))\n",
    "    polygon_coords.append(coords)"
   ]
  },
  {
   "cell_type": "code",
   "execution_count": 12,
   "metadata": {},
   "outputs": [
    {
     "name": "stderr",
     "output_type": "stream",
     "text": [
      "c:\\Users\\maart\\Documents\\2 BUILDING TECHNOLOGY\\CORE\\SHELTER\\shelter.py:64: RuntimeWarning: invalid value encountered in true_divide\n",
      "  slope_radians = math.atan(delta_elevation / distance)\n"
     ]
    },
    {
     "data": {
      "text/html": [
       "<div>\n",
       "<style scoped>\n",
       "    .dataframe tbody tr th:only-of-type {\n",
       "        vertical-align: middle;\n",
       "    }\n",
       "\n",
       "    .dataframe tbody tr th {\n",
       "        vertical-align: top;\n",
       "    }\n",
       "\n",
       "    .dataframe thead th {\n",
       "        text-align: right;\n",
       "    }\n",
       "</style>\n",
       "<table border=\"1\" class=\"dataframe\">\n",
       "  <thead>\n",
       "    <tr style=\"text-align: right;\">\n",
       "      <th></th>\n",
       "      <th>lon</th>\n",
       "      <th>lat</th>\n",
       "      <th>geometry</th>\n",
       "      <th>population_2020</th>\n",
       "      <th>temperature_2m_max</th>\n",
       "      <th>temperature_2m_min</th>\n",
       "      <th>rain_sum</th>\n",
       "      <th>snowfall_sum</th>\n",
       "      <th>windspeed_10m_max</th>\n",
       "      <th>winddirection_10m_dominant</th>\n",
       "      <th>max_temp</th>\n",
       "      <th>min_temp</th>\n",
       "      <th>slope</th>\n",
       "    </tr>\n",
       "  </thead>\n",
       "  <tbody>\n",
       "    <tr>\n",
       "      <th>0</th>\n",
       "      <td>36.151255</td>\n",
       "      <td>36.188028</td>\n",
       "      <td>POINT (36.15126 36.18803)</td>\n",
       "      <td>8999.194011</td>\n",
       "      <td>21.629493</td>\n",
       "      <td>13.052047</td>\n",
       "      <td>1.443168</td>\n",
       "      <td>0.019754</td>\n",
       "      <td>11.365687</td>\n",
       "      <td>209.981909</td>\n",
       "      <td>34</td>\n",
       "      <td>23</td>\n",
       "      <td>12.56627</td>\n",
       "    </tr>\n",
       "  </tbody>\n",
       "</table>\n",
       "</div>"
      ],
      "text/plain": [
       "         lon        lat                   geometry  population_2020  \\\n",
       "0  36.151255  36.188028  POINT (36.15126 36.18803)      8999.194011   \n",
       "\n",
       "   temperature_2m_max  temperature_2m_min  rain_sum  snowfall_sum  \\\n",
       "0           21.629493           13.052047  1.443168      0.019754   \n",
       "\n",
       "   windspeed_10m_max  winddirection_10m_dominant  max_temp  min_temp     slope  \n",
       "0          11.365687                  209.981909        34        23  12.56627  "
      ]
     },
     "execution_count": 12,
     "metadata": {},
     "output_type": "execute_result"
    }
   ],
   "source": [
    "# Replace these coordinates with your latitude and longitude points\n",
    "\n",
    "# Replace with the path to your GeoTIFF file\n",
    "slopes = []\n",
    "dem_file = 'data/n36_e036_1arc_v3.tif'\n",
    "\n",
    "for coords in polygon_coords: \n",
    "    max_slope = sf.find_maximum_slope_among_points(coords, dem_file)\n",
    "    slopes.append(max_slope)\n",
    "\n",
    "num_slope = slopes[shelter_num]\n",
    "main_gdf.assign(slope=num_slope)"
   ]
  },
  {
   "cell_type": "code",
   "execution_count": 15,
   "metadata": {},
   "outputs": [],
   "source": [
    "main_gdf.to_csv('data/location_information.csv')"
   ]
  },
  {
   "cell_type": "code",
   "execution_count": 13,
   "metadata": {},
   "outputs": [],
   "source": [
    "# # weather data for each input location (latitude, longitude)\n",
    "\n",
    "\n",
    "# # open_meteo_url = []\n",
    "\n",
    "# lat = []\n",
    "# lon = []\n",
    "# temps_high = []\n",
    "# temps_low = []\n",
    "\n",
    "# variables = [\"temperature_2m_max\", \"temperature_2m_min\",\"rain_sum,snowfall_sum\",\"windspeed_10m_max\",\"winddirection_10m_dominant\"]\n",
    "# mean_values = {var: [] for var in variables}\n",
    "\n",
    "# for coord in coords: \n",
    "#     urllat = coord[0]\n",
    "#     urllon = coord[1]\n",
    "\n",
    "#     lat.append(urllat)\n",
    "#     lon.append(urllon)\n",
    "#     #set url for different datatypes on each location(temp max, temp min, rain, snow, wind, etc. editable; more options on the website) \n",
    "#     open_meteo =\"http://archive-api.open-meteo.com/v1/archive?latitude=\" +str(urllat) +str(\"&longitude=\") +str(urllon) +str(\"&start_date=2022-01-01&end_date=2023-01-01&daily=temperature_2m_max,temperature_2m_min,rain_sum,snowfall_sum,windspeed_10m_max,winddirection_10m_dominant&timezone=Africa/Cairo\")\n",
    "#     # open_meteo_url.append(open_meteo)\n",
    "\n",
    "\n",
    "#     # for each location, request data from its url\n",
    "#     response = requests.get(open_meteo)\n",
    "#     data = response.json()\n",
    "    \n",
    "    \n",
    "#     # Iterate through variables and calculate the mean for each\n",
    "#     for var in variables:\n",
    "#         daily_data = data['daily']\n",
    "#         if var in daily_data:\n",
    "#             daily_var = daily_data[var]\n",
    "#             mean_value = np.mean(daily_var)\n",
    "#             mean_values[var].append(mean_value)\n",
    "\n",
    "# print(lat)\n",
    "# print(lon)\n",
    "# print(mean_values)\n",
    "\n",
    "# # Create a DataFrame to store the data\n",
    "# data = {'lat': lat, 'lon': lon, **mean_values}\n",
    "# df = pd.DataFrame(data)\n",
    "\n",
    "# # Create a GeoDataFrame from the DataFrame\n",
    "# geometry = gpd.points_from_xy(df.lon, df.lat)\n",
    "# gdf = gpd.GeoDataFrame(df, geometry=geometry, crs='EPSG:4326')\n",
    "# print(gdf)\n",
    "#     # data = (json.dumps(data, indent=4))\n",
    "#     # df = pd.read_json(data)\n",
    "#     # print(df.index)\n",
    "\n",
    "#     # daily_temp_high = (df['daily'][1])\n",
    "#     # daily_tem_low = (df['daily'][2])\n",
    "\n",
    "#     # temp_average_high = np.mean(daily_temp_high)\n",
    "#     # temps_high.append(temp_average_high)\n",
    "#     # print(temp_average_high)\n",
    "\n",
    "# # Getting the request library to load the data in json format\n",
    "\n",
    "\n",
    "# # print all indices to see what data is available\n",
    "\n",
    "# # try to do this for each index (in a loop??? would be nice)\n",
    "\n",
    "# # location_info = gpd.sjoin(voronoi_gdf, population_gdf, how='inner', predicate='intersects')\n",
    "\n"
   ]
  }
 ],
 "metadata": {
  "kernelspec": {
   "display_name": "base",
   "language": "python",
   "name": "python3"
  },
  "language_info": {
   "codemirror_mode": {
    "name": "ipython",
    "version": 3
   },
   "file_extension": ".py",
   "mimetype": "text/x-python",
   "name": "python",
   "nbconvert_exporter": "python",
   "pygments_lexer": "ipython3",
   "version": "3.9.13"
  },
  "orig_nbformat": 4
 },
 "nbformat": 4,
 "nbformat_minor": 2
}
